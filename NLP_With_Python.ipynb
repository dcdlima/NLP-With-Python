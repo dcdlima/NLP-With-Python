{
  "nbformat": 4,
  "nbformat_minor": 0,
  "metadata": {
    "colab": {
      "provenance": [],
      "mount_file_id": "1mOfmpGZD2AhI17phuQNgAYn6F3QUpZcD",
      "authorship_tag": "ABX9TyPl73Yndq2oW5YoMZY1Wfdt",
      "include_colab_link": true
    },
    "kernelspec": {
      "name": "python3",
      "display_name": "Python 3"
    },
    "language_info": {
      "name": "python"
    }
  },
  "cells": [
    {
      "cell_type": "markdown",
      "metadata": {
        "id": "view-in-github",
        "colab_type": "text"
      },
      "source": [
        "<a href=\"https://colab.research.google.com/github/dcdlima/NLP-With-Python/blob/main/NLP_With_Python.ipynb\" target=\"_parent\"><img src=\"https://colab.research.google.com/assets/colab-badge.svg\" alt=\"Open In Colab\"/></a>"
      ]
    },
    {
      "cell_type": "markdown",
      "source": [
        "# Natural Language Processing With Python"
      ],
      "metadata": {
        "id": "Dv3w-NCop6wp"
      }
    },
    {
      "cell_type": "markdown",
      "source": [
        "Livro disponível em:\n",
        "\n",
        "https://www.nltk.org/book/"
      ],
      "metadata": {
        "id": "qX8VdClpq0ZA"
      }
    },
    {
      "cell_type": "markdown",
      "source": [
        "### Definiçao de uma Linguagem"
      ],
      "metadata": {
        "id": "c3l3nMzvsPeZ"
      }
    },
    {
      "cell_type": "markdown",
      "source": [
        "Compreende-se como linguagem natural a linguagem usada no dia a dia como ingles ou portugues. As linguagens de programaçao possuem uma abordagem diferente onde usa-se notaçoes matematicas e outros"
      ],
      "metadata": {
        "id": "XmJbpMXet5WW"
      }
    },
    {
      "cell_type": "markdown",
      "source": [
        "## Aplicacoes da NLP\n",
        "\n",
        "\n",
        "\n",
        "*   Predicao de texto\n",
        "*   Reconhecimento de manuscrito\n",
        "*   Máquinas de tradução\n",
        "*   Análise de sentimentos\n",
        "*   Interfaces Humano-Maquina mais naturais"
      ],
      "metadata": {
        "id": "Dqk27Lssxqi5"
      }
    },
    {
      "cell_type": "markdown",
      "source": [
        "## Coisas importantes\n",
        "\n",
        "\n",
        "\n",
        "*   Entender os conceitos chaves de NLP\n",
        "*   Entender a estrutura dos dados e dos algoritmos\n",
        "*   Formatos dos dados de linguagem\n",
        "*   Avaliação da performance de técnicas de NLP.\n",
        "\n"
      ],
      "metadata": {
        "id": "gtyRqUWc7N_S"
      }
    },
    {
      "cell_type": "markdown",
      "source": [
        "O código a seguir não funciona devido a codificação do documento. Para o funcionamento correto é preciso entender a codificação do documento (UTF-8, por exemplo) e, se necessário, converter o documento para a codificação que o sistema conseguirá interpretar para então poder fazer o tratamento e aplicação. Esses detalhes são vistos no pre-processamento dos dados."
      ],
      "metadata": {
        "id": "p3mLE3QZBxze"
      }
    },
    {
      "cell_type": "code",
      "source": [
        "### este é um código que não vai funcionar...\n",
        "\n",
        "###for line in open(\"/content/drive/MyDrive/Inglês /The Pronunciation Key 01.pdf\"):\n",
        "###  for word in line.split():\n",
        "###    if word.endswith(\"ing\"):\n",
        "###      print(word)\n"
      ],
      "metadata": {
        "id": "x6Zof6HKsyeP",
        "colab": {
          "base_uri": "https://localhost:8080/",
          "height": 315
        },
        "outputId": "14334218-8794-45a0-8958-9030b6fe4cdf"
      },
      "execution_count": null,
      "outputs": [
        {
          "output_type": "error",
          "ename": "UnicodeDecodeError",
          "evalue": "'utf-8' codec can't decode byte 0xe2 in position 10: invalid continuation byte",
          "traceback": [
            "\u001b[0;31m---------------------------------------------------------------------------\u001b[0m",
            "\u001b[0;31mUnicodeDecodeError\u001b[0m                        Traceback (most recent call last)",
            "\u001b[0;32m/tmp/ipython-input-1-2290197949.py\u001b[0m in \u001b[0;36m<cell line: 0>\u001b[0;34m()\u001b[0m\n\u001b[1;32m      1\u001b[0m \u001b[0;31m### este é um código que não vai funcionar...\u001b[0m\u001b[0;34m\u001b[0m\u001b[0;34m\u001b[0m\u001b[0m\n\u001b[1;32m      2\u001b[0m \u001b[0;34m\u001b[0m\u001b[0m\n\u001b[0;32m----> 3\u001b[0;31m \u001b[0;32mfor\u001b[0m \u001b[0mline\u001b[0m \u001b[0;32min\u001b[0m \u001b[0mopen\u001b[0m\u001b[0;34m(\u001b[0m\u001b[0;34m\"/content/drive/MyDrive/Inglês /The Pronunciation Key 01.pdf\"\u001b[0m\u001b[0;34m)\u001b[0m\u001b[0;34m:\u001b[0m\u001b[0;34m\u001b[0m\u001b[0;34m\u001b[0m\u001b[0m\n\u001b[0m\u001b[1;32m      4\u001b[0m   \u001b[0;32mfor\u001b[0m \u001b[0mword\u001b[0m \u001b[0;32min\u001b[0m \u001b[0mline\u001b[0m\u001b[0;34m.\u001b[0m\u001b[0msplit\u001b[0m\u001b[0;34m(\u001b[0m\u001b[0;34m)\u001b[0m\u001b[0;34m:\u001b[0m\u001b[0;34m\u001b[0m\u001b[0;34m\u001b[0m\u001b[0m\n\u001b[1;32m      5\u001b[0m     \u001b[0;32mif\u001b[0m \u001b[0mword\u001b[0m\u001b[0;34m.\u001b[0m\u001b[0mendswith\u001b[0m\u001b[0;34m(\u001b[0m\u001b[0;34m\"ing\"\u001b[0m\u001b[0;34m)\u001b[0m\u001b[0;34m:\u001b[0m\u001b[0;34m\u001b[0m\u001b[0;34m\u001b[0m\u001b[0m\n",
            "\u001b[0;32m/usr/lib/python3.11/codecs.py\u001b[0m in \u001b[0;36mdecode\u001b[0;34m(self, input, final)\u001b[0m\n",
            "\u001b[0;31mUnicodeDecodeError\u001b[0m: 'utf-8' codec can't decode byte 0xe2 in position 10: invalid continuation byte"
          ]
        }
      ]
    },
    {
      "cell_type": "code",
      "metadata": {
        "id": "79cf96b0",
        "colab": {
          "base_uri": "https://localhost:8080/"
        },
        "outputId": "b76fdc95-eaa9-4dd3-ef90-848dcd54f695"
      },
      "source": [
        "### Este código funciona pois foi realizado o pré-processamento com a biblioteca pymupdf\n",
        "\n",
        "### Instalação da biblioteca PyMuPDF para manipulação do documento PDF\n",
        "\n",
        "!pip install PyMuPDF"
      ],
      "execution_count": null,
      "outputs": [
        {
          "output_type": "stream",
          "name": "stdout",
          "text": [
            "Collecting PyMuPDF\n",
            "  Downloading pymupdf-1.26.3-cp39-abi3-manylinux_2_28_x86_64.whl.metadata (3.4 kB)\n",
            "Downloading pymupdf-1.26.3-cp39-abi3-manylinux_2_28_x86_64.whl (24.1 MB)\n",
            "\u001b[2K   \u001b[90m━━━━━━━━━━━━━━━━━━━━━━━━━━━━━━━━━━━━━━━━\u001b[0m \u001b[32m24.1/24.1 MB\u001b[0m \u001b[31m76.4 MB/s\u001b[0m eta \u001b[36m0:00:00\u001b[0m\n",
            "\u001b[?25hInstalling collected packages: PyMuPDF\n",
            "Successfully installed PyMuPDF-1.26.3\n"
          ]
        }
      ]
    },
    {
      "cell_type": "code",
      "metadata": {
        "colab": {
          "base_uri": "https://localhost:8080/"
        },
        "id": "b48027bc",
        "outputId": "999c4871-3240-4eec-a56b-eff399068553"
      },
      "source": [
        "import pymupdf  # se a função fitz aparecer em algum código, atualizar para pymupdf\n",
        "\n",
        "pdf_path = \"/content/drive/MyDrive/Inglês /The Pronunciation Key 01.pdf\"\n",
        "text = \"\"\n",
        "try:\n",
        "    with pymupdf.open(pdf_path) as doc:\n",
        "        for page in doc:\n",
        "            text += page.get_text()\n",
        "except FileNotFoundError:\n",
        "    print(f\"Error: File not found at {pdf_path}\")\n",
        "except Exception as e:\n",
        "    print(f\"An error occurred: {e}\")\n",
        "\n",
        "# Now you can process the extracted text\n",
        "for word in text.split():\n",
        "    if word.lower().endswith(\"ing\"): #fazer testes com o .lower(), não existe no código original\n",
        "        print(word)"
      ],
      "execution_count": null,
      "outputs": [
        {
          "output_type": "stream",
          "name": "stdout",
          "text": [
            "(being\n",
            "Improving\n",
            "listening\n",
            "Perceiving\n",
            "linking\n",
            "speaking\n",
            "spelling\n",
            "learning\n",
            "embarrassing\n",
            "speaking\n",
            "amazing\n",
            "willing\n",
            "Teaching\n",
            "speaking\n",
            "reading\n",
            "Cracking\n",
            "Teaching\n"
          ]
        }
      ]
    },
    {
      "cell_type": "markdown",
      "source": [
        "## NLTK (Natural Language Toolkit)\n",
        "\n",
        "Principais objetivos desse pacote\n",
        "\n",
        "\n",
        "\n",
        "*   Simplicidade\n",
        "*   Consistência\n",
        "*   Extensibilidade\n",
        "*   Modularidade\n",
        "\n"
      ],
      "metadata": {
        "id": "L0j4cJ6-FqnO"
      }
    },
    {
      "cell_type": "markdown",
      "source": [
        "Em NLP podemos dizer que o texto é o nosso dado bruto. O programa que escrevemos vai manipular e analizar o dado para que seja possível realizar a tarefa desejada."
      ],
      "metadata": {
        "id": "SNPTTHyx1mbX"
      }
    },
    {
      "cell_type": "code",
      "source": [
        "### Para iniciar a atividade de NLP é necessário instalar o pacote NLTK (Natural Language ToolKit)\n",
        "### quando abrir a janela downloader deve-se colocar d all => será feito o download de todos os pacotes da biblioteca\n",
        "### após o download escolha q para poder seguir para próxima célula\n",
        "### Uma vantagem de trabalhar no Google Colab é que muitas bibliotecas já estão instaladas. No entanto, se por algum motivo o seu código falhar, pode ser necessário as instalação de alguma pacote. Para isso, basta usar !pip install nome_do_pacote.\n",
        "\n",
        "\n",
        "!pip install NLTK\n",
        "import nltk\n",
        "nltk.download()\n"
      ],
      "metadata": {
        "colab": {
          "base_uri": "https://localhost:8080/"
        },
        "id": "XY8HmyWi2hEn",
        "outputId": "65e9f2af-b1c1-4178-f13d-beb30b7ce191"
      },
      "execution_count": null,
      "outputs": [
        {
          "metadata": {
            "tags": null
          },
          "name": "stdout",
          "output_type": "stream",
          "text": [
            "Requirement already satisfied: NLTK in /usr/local/lib/python3.11/dist-packages (3.9.1)\n",
            "Requirement already satisfied: click in /usr/local/lib/python3.11/dist-packages (from NLTK) (8.2.1)\n",
            "Requirement already satisfied: joblib in /usr/local/lib/python3.11/dist-packages (from NLTK) (1.5.1)\n",
            "Requirement already satisfied: regex>=2021.8.3 in /usr/local/lib/python3.11/dist-packages (from NLTK) (2024.11.6)\n",
            "Requirement already satisfied: tqdm in /usr/local/lib/python3.11/dist-packages (from NLTK) (4.67.1)\n",
            "NLTK Downloader\n",
            "---------------------------------------------------------------------------\n",
            "    d) Download   l) List    u) Update   c) Config   h) Help   q) Quit\n",
            "---------------------------------------------------------------------------\n"
          ]
        },
        {
          "metadata": {
            "tags": null
          },
          "name": "stderr",
          "output_type": "stream",
          "text": [
            "    Downloading collection 'all'\n",
            "       | \n",
            "       | Downloading package abc to /root/nltk_data...\n",
            "       |   Unzipping corpora/abc.zip.\n",
            "       | Downloading package alpino to /root/nltk_data...\n",
            "       |   Unzipping corpora/alpino.zip.\n",
            "       | Downloading package averaged_perceptron_tagger to\n",
            "       |     /root/nltk_data...\n",
            "       |   Unzipping taggers/averaged_perceptron_tagger.zip.\n",
            "       | Downloading package averaged_perceptron_tagger_eng to\n",
            "       |     /root/nltk_data...\n",
            "       |   Unzipping taggers/averaged_perceptron_tagger_eng.zip.\n",
            "       | Downloading package averaged_perceptron_tagger_ru to\n",
            "       |     /root/nltk_data...\n",
            "       |   Unzipping taggers/averaged_perceptron_tagger_ru.zip.\n",
            "       | Downloading package averaged_perceptron_tagger_rus to\n",
            "       |     /root/nltk_data...\n",
            "       |   Unzipping taggers/averaged_perceptron_tagger_rus.zip.\n",
            "       | Downloading package basque_grammars to /root/nltk_data...\n",
            "       |   Unzipping grammars/basque_grammars.zip.\n",
            "       | Downloading package bcp47 to /root/nltk_data...\n",
            "       | Downloading package biocreative_ppi to /root/nltk_data...\n",
            "       |   Unzipping corpora/biocreative_ppi.zip.\n",
            "       | Downloading package bllip_wsj_no_aux to /root/nltk_data...\n",
            "       |   Unzipping models/bllip_wsj_no_aux.zip.\n",
            "       | Downloading package book_grammars to /root/nltk_data...\n",
            "       |   Unzipping grammars/book_grammars.zip.\n",
            "       | Downloading package brown to /root/nltk_data...\n",
            "       |   Unzipping corpora/brown.zip.\n",
            "       | Downloading package brown_tei to /root/nltk_data...\n",
            "       |   Unzipping corpora/brown_tei.zip.\n",
            "       | Downloading package cess_cat to /root/nltk_data...\n",
            "       |   Unzipping corpora/cess_cat.zip.\n",
            "       | Downloading package cess_esp to /root/nltk_data...\n",
            "       |   Unzipping corpora/cess_esp.zip.\n",
            "       | Downloading package chat80 to /root/nltk_data...\n",
            "       |   Unzipping corpora/chat80.zip.\n",
            "       | Downloading package city_database to /root/nltk_data...\n",
            "       |   Unzipping corpora/city_database.zip.\n",
            "       | Downloading package cmudict to /root/nltk_data...\n",
            "       |   Unzipping corpora/cmudict.zip.\n",
            "       | Downloading package comparative_sentences to\n",
            "       |     /root/nltk_data...\n",
            "       |   Unzipping corpora/comparative_sentences.zip.\n",
            "       | Downloading package comtrans to /root/nltk_data...\n",
            "       | Downloading package conll2000 to /root/nltk_data...\n",
            "       |   Unzipping corpora/conll2000.zip.\n",
            "       | Downloading package conll2002 to /root/nltk_data...\n",
            "       |   Unzipping corpora/conll2002.zip.\n",
            "       | Downloading package conll2007 to /root/nltk_data...\n",
            "       | Downloading package crubadan to /root/nltk_data...\n",
            "       |   Unzipping corpora/crubadan.zip.\n",
            "       | Downloading package dependency_treebank to /root/nltk_data...\n",
            "       |   Unzipping corpora/dependency_treebank.zip.\n",
            "       | Downloading package dolch to /root/nltk_data...\n",
            "       |   Unzipping corpora/dolch.zip.\n",
            "       | Downloading package english_wordnet to /root/nltk_data...\n",
            "       |   Unzipping corpora/english_wordnet.zip.\n",
            "       | Downloading package europarl_raw to /root/nltk_data...\n",
            "       |   Unzipping corpora/europarl_raw.zip.\n",
            "       | Downloading package extended_omw to /root/nltk_data...\n",
            "       | Downloading package floresta to /root/nltk_data...\n",
            "       |   Unzipping corpora/floresta.zip.\n",
            "       | Downloading package framenet_v15 to /root/nltk_data...\n",
            "       |   Unzipping corpora/framenet_v15.zip.\n",
            "       | Downloading package framenet_v17 to /root/nltk_data...\n",
            "       |   Unzipping corpora/framenet_v17.zip.\n",
            "       | Downloading package gazetteers to /root/nltk_data...\n",
            "       |   Unzipping corpora/gazetteers.zip.\n",
            "       | Downloading package genesis to /root/nltk_data...\n",
            "       |   Unzipping corpora/genesis.zip.\n",
            "       | Downloading package gutenberg to /root/nltk_data...\n",
            "       |   Unzipping corpora/gutenberg.zip.\n",
            "       | Downloading package ieer to /root/nltk_data...\n",
            "       |   Unzipping corpora/ieer.zip.\n",
            "       | Downloading package inaugural to /root/nltk_data...\n",
            "       |   Unzipping corpora/inaugural.zip.\n",
            "       | Downloading package indian to /root/nltk_data...\n",
            "       |   Unzipping corpora/indian.zip.\n",
            "       | Downloading package jeita to /root/nltk_data...\n",
            "       | Downloading package kimmo to /root/nltk_data...\n",
            "       |   Unzipping corpora/kimmo.zip.\n",
            "       | Downloading package knbc to /root/nltk_data...\n",
            "       | Downloading package large_grammars to /root/nltk_data...\n",
            "       |   Unzipping grammars/large_grammars.zip.\n",
            "       | Downloading package lin_thesaurus to /root/nltk_data...\n",
            "       |   Unzipping corpora/lin_thesaurus.zip.\n",
            "       | Downloading package mac_morpho to /root/nltk_data...\n",
            "       |   Unzipping corpora/mac_morpho.zip.\n",
            "       | Downloading package machado to /root/nltk_data...\n",
            "       | Downloading package masc_tagged to /root/nltk_data...\n",
            "       | Downloading package maxent_ne_chunker to /root/nltk_data...\n",
            "       |   Unzipping chunkers/maxent_ne_chunker.zip.\n",
            "       | Downloading package maxent_ne_chunker_tab to\n",
            "       |     /root/nltk_data...\n",
            "       |   Unzipping chunkers/maxent_ne_chunker_tab.zip.\n",
            "       | Downloading package maxent_treebank_pos_tagger to\n",
            "       |     /root/nltk_data...\n",
            "       |   Unzipping taggers/maxent_treebank_pos_tagger.zip.\n",
            "       | Downloading package maxent_treebank_pos_tagger_tab to\n",
            "       |     /root/nltk_data...\n",
            "       |   Unzipping taggers/maxent_treebank_pos_tagger_tab.zip.\n",
            "       | Downloading package mock_corpus to /root/nltk_data...\n",
            "       |   Unzipping corpora/mock_corpus.zip.\n",
            "       | Downloading package moses_sample to /root/nltk_data...\n",
            "       |   Unzipping models/moses_sample.zip.\n",
            "       | Downloading package movie_reviews to /root/nltk_data...\n",
            "       |   Unzipping corpora/movie_reviews.zip.\n",
            "       | Downloading package mte_teip5 to /root/nltk_data...\n",
            "       |   Unzipping corpora/mte_teip5.zip.\n",
            "       | Downloading package mwa_ppdb to /root/nltk_data...\n",
            "       |   Unzipping misc/mwa_ppdb.zip.\n",
            "       | Downloading package names to /root/nltk_data...\n",
            "       |   Unzipping corpora/names.zip.\n",
            "       | Downloading package nombank.1.0 to /root/nltk_data...\n",
            "       | Downloading package nonbreaking_prefixes to\n",
            "       |     /root/nltk_data...\n",
            "       |   Unzipping corpora/nonbreaking_prefixes.zip.\n",
            "       | Downloading package nps_chat to /root/nltk_data...\n",
            "       |   Unzipping corpora/nps_chat.zip.\n",
            "       | Downloading package omw to /root/nltk_data...\n",
            "       | Downloading package omw-1.4 to /root/nltk_data...\n",
            "       | Downloading package opinion_lexicon to /root/nltk_data...\n",
            "       |   Unzipping corpora/opinion_lexicon.zip.\n",
            "       | Downloading package panlex_swadesh to /root/nltk_data...\n",
            "       | Downloading package paradigms to /root/nltk_data...\n",
            "       |   Unzipping corpora/paradigms.zip.\n",
            "       | Downloading package pe08 to /root/nltk_data...\n",
            "       |   Unzipping corpora/pe08.zip.\n",
            "       | Downloading package perluniprops to /root/nltk_data...\n",
            "       |   Unzipping misc/perluniprops.zip.\n",
            "       | Downloading package pil to /root/nltk_data...\n",
            "       |   Unzipping corpora/pil.zip.\n",
            "       | Downloading package pl196x to /root/nltk_data...\n",
            "       |   Unzipping corpora/pl196x.zip.\n",
            "       | Downloading package porter_test to /root/nltk_data...\n",
            "       |   Unzipping stemmers/porter_test.zip.\n",
            "       | Downloading package ppattach to /root/nltk_data...\n",
            "       |   Unzipping corpora/ppattach.zip.\n",
            "       | Downloading package problem_reports to /root/nltk_data...\n",
            "       |   Unzipping corpora/problem_reports.zip.\n",
            "       | Downloading package product_reviews_1 to /root/nltk_data...\n",
            "       |   Unzipping corpora/product_reviews_1.zip.\n",
            "       | Downloading package product_reviews_2 to /root/nltk_data...\n",
            "       |   Unzipping corpora/product_reviews_2.zip.\n",
            "       | Downloading package propbank to /root/nltk_data...\n",
            "       | Downloading package pros_cons to /root/nltk_data...\n",
            "       |   Unzipping corpora/pros_cons.zip.\n",
            "       | Downloading package ptb to /root/nltk_data...\n",
            "       |   Unzipping corpora/ptb.zip.\n",
            "       | Downloading package punkt to /root/nltk_data...\n",
            "       |   Unzipping tokenizers/punkt.zip.\n",
            "       | Downloading package punkt_tab to /root/nltk_data...\n",
            "       |   Unzipping tokenizers/punkt_tab.zip.\n",
            "       | Downloading package qc to /root/nltk_data...\n",
            "       |   Unzipping corpora/qc.zip.\n",
            "       | Downloading package reuters to /root/nltk_data...\n",
            "       | Downloading package rslp to /root/nltk_data...\n",
            "       |   Unzipping stemmers/rslp.zip.\n",
            "       | Downloading package rte to /root/nltk_data...\n",
            "       |   Unzipping corpora/rte.zip.\n",
            "       | Downloading package sample_grammars to /root/nltk_data...\n",
            "       |   Unzipping grammars/sample_grammars.zip.\n",
            "       | Downloading package semcor to /root/nltk_data...\n",
            "       | Downloading package senseval to /root/nltk_data...\n",
            "       |   Unzipping corpora/senseval.zip.\n",
            "       | Downloading package sentence_polarity to /root/nltk_data...\n",
            "       |   Unzipping corpora/sentence_polarity.zip.\n",
            "       | Downloading package sentiwordnet to /root/nltk_data...\n",
            "       |   Unzipping corpora/sentiwordnet.zip.\n",
            "       | Downloading package shakespeare to /root/nltk_data...\n",
            "       |   Unzipping corpora/shakespeare.zip.\n",
            "       | Downloading package sinica_treebank to /root/nltk_data...\n",
            "       |   Unzipping corpora/sinica_treebank.zip.\n",
            "       | Downloading package smultron to /root/nltk_data...\n",
            "       |   Unzipping corpora/smultron.zip.\n",
            "       | Downloading package snowball_data to /root/nltk_data...\n",
            "       | Downloading package spanish_grammars to /root/nltk_data...\n",
            "       |   Unzipping grammars/spanish_grammars.zip.\n",
            "       | Downloading package state_union to /root/nltk_data...\n",
            "       |   Unzipping corpora/state_union.zip.\n",
            "       | Downloading package stopwords to /root/nltk_data...\n",
            "       |   Unzipping corpora/stopwords.zip.\n",
            "       | Downloading package subjectivity to /root/nltk_data...\n",
            "       |   Unzipping corpora/subjectivity.zip.\n",
            "       | Downloading package swadesh to /root/nltk_data...\n",
            "       |   Unzipping corpora/swadesh.zip.\n",
            "       | Downloading package switchboard to /root/nltk_data...\n",
            "       |   Unzipping corpora/switchboard.zip.\n",
            "       | Downloading package tagsets to /root/nltk_data...\n",
            "       |   Unzipping help/tagsets.zip.\n",
            "       | Downloading package tagsets_json to /root/nltk_data...\n",
            "       |   Unzipping help/tagsets_json.zip.\n",
            "       | Downloading package timit to /root/nltk_data...\n",
            "       |   Unzipping corpora/timit.zip.\n",
            "       | Downloading package toolbox to /root/nltk_data...\n",
            "       |   Unzipping corpora/toolbox.zip.\n",
            "       | Downloading package treebank to /root/nltk_data...\n",
            "       |   Unzipping corpora/treebank.zip.\n",
            "       | Downloading package twitter_samples to /root/nltk_data...\n",
            "       |   Unzipping corpora/twitter_samples.zip.\n",
            "       | Downloading package udhr to /root/nltk_data...\n",
            "       |   Unzipping corpora/udhr.zip.\n",
            "       | Downloading package udhr2 to /root/nltk_data...\n",
            "       |   Unzipping corpora/udhr2.zip.\n",
            "       | Downloading package unicode_samples to /root/nltk_data...\n",
            "       |   Unzipping corpora/unicode_samples.zip.\n",
            "       | Downloading package universal_tagset to /root/nltk_data...\n",
            "       |   Unzipping taggers/universal_tagset.zip.\n",
            "       | Downloading package universal_treebanks_v20 to\n",
            "       |     /root/nltk_data...\n",
            "       | Downloading package vader_lexicon to /root/nltk_data...\n",
            "       | Downloading package verbnet to /root/nltk_data...\n",
            "       |   Unzipping corpora/verbnet.zip.\n",
            "       | Downloading package verbnet3 to /root/nltk_data...\n",
            "       |   Unzipping corpora/verbnet3.zip.\n",
            "       | Downloading package webtext to /root/nltk_data...\n",
            "       |   Unzipping corpora/webtext.zip.\n",
            "       | Downloading package wmt15_eval to /root/nltk_data...\n",
            "       |   Unzipping models/wmt15_eval.zip.\n",
            "       | Downloading package word2vec_sample to /root/nltk_data...\n",
            "       |   Unzipping models/word2vec_sample.zip.\n",
            "       | Downloading package wordnet to /root/nltk_data...\n",
            "       | Downloading package wordnet2021 to /root/nltk_data...\n",
            "       | Downloading package wordnet2022 to /root/nltk_data...\n",
            "       |   Unzipping corpora/wordnet2022.zip.\n",
            "       | Downloading package wordnet31 to /root/nltk_data...\n",
            "       | Downloading package wordnet_ic to /root/nltk_data...\n",
            "       |   Unzipping corpora/wordnet_ic.zip.\n",
            "       | Downloading package words to /root/nltk_data...\n",
            "       |   Unzipping corpora/words.zip.\n",
            "       | Downloading package ycoe to /root/nltk_data...\n",
            "       |   Unzipping corpora/ycoe.zip.\n",
            "       | \n",
            "     Done downloading collection all\n"
          ]
        },
        {
          "name": "stdout",
          "output_type": "stream",
          "text": [
            "\n",
            "---------------------------------------------------------------------------\n",
            "    d) Download   l) List    u) Update   c) Config   h) Help   q) Quit\n",
            "---------------------------------------------------------------------------\n",
            "Downloader> Q\n"
          ]
        },
        {
          "output_type": "execute_result",
          "data": {
            "text/plain": [
              "True"
            ]
          },
          "metadata": {},
          "execution_count": 4
        }
      ]
    },
    {
      "cell_type": "code",
      "source": [
        "from nltk.book import * # importa todos os itens do módulo book da biblioteca nltk."
      ],
      "metadata": {
        "colab": {
          "base_uri": "https://localhost:8080/"
        },
        "id": "HUxtF7hX5NDV",
        "outputId": "2506f944-eb58-4aeb-dc49-5cc3a72ec343"
      },
      "execution_count": null,
      "outputs": [
        {
          "output_type": "stream",
          "name": "stdout",
          "text": [
            "*** Introductory Examples for the NLTK Book ***\n",
            "Loading text1, ..., text9 and sent1, ..., sent9\n",
            "Type the name of the text or sentence to view it.\n",
            "Type: 'texts()' or 'sents()' to list the materials.\n",
            "text1: Moby Dick by Herman Melville 1851\n",
            "text2: Sense and Sensibility by Jane Austen 1811\n",
            "text3: The Book of Genesis\n",
            "text4: Inaugural Address Corpus\n",
            "text5: Chat Corpus\n",
            "text6: Monty Python and the Holy Grail\n",
            "text7: Wall Street Journal\n",
            "text8: Personals Corpus\n",
            "text9: The Man Who Was Thursday by G . K . Chesterton 1908\n"
          ]
        }
      ]
    },
    {
      "cell_type": "code",
      "source": [
        "# Localizar os textos\n",
        "\n",
        "text1"
      ],
      "metadata": {
        "colab": {
          "base_uri": "https://localhost:8080/"
        },
        "id": "xar5O2B25vOL",
        "outputId": "c8edd8e2-1262-41eb-dfdc-e07a554b4eb7"
      },
      "execution_count": null,
      "outputs": [
        {
          "output_type": "execute_result",
          "data": {
            "text/plain": [
              "<Text: Moby Dick by Herman Melville 1851>"
            ]
          },
          "metadata": {},
          "execution_count": 7
        }
      ]
    },
    {
      "cell_type": "code",
      "source": [
        "text2"
      ],
      "metadata": {
        "colab": {
          "base_uri": "https://localhost:8080/"
        },
        "id": "dg4Z5i2P54aO",
        "outputId": "8308a9b0-6ca9-4715-e731-39023de12e67"
      },
      "execution_count": null,
      "outputs": [
        {
          "output_type": "execute_result",
          "data": {
            "text/plain": [
              "<Text: Sense and Sensibility by Jane Austen 1811>"
            ]
          },
          "metadata": {},
          "execution_count": 8
        }
      ]
    },
    {
      "cell_type": "code",
      "source": [
        "### Buscando em um texto. Na tarefa a seguir é a realizada a busca da palavra monstrous. É retornado as ocorrências dela no texto junto com uma parte de contexto.\n",
        "\n",
        "text1.concordance(\"monstrous\")"
      ],
      "metadata": {
        "colab": {
          "base_uri": "https://localhost:8080/"
        },
        "id": "TjYCp2esbHoz",
        "outputId": "bf7778a9-151a-4c66-8090-a3d924148b23"
      },
      "execution_count": null,
      "outputs": [
        {
          "output_type": "stream",
          "name": "stdout",
          "text": [
            "Displaying 11 of 11 matches:\n",
            "ong the former , one was of a most monstrous size . ... This came towards us , \n",
            "ON OF THE PSALMS . \" Touching that monstrous bulk of the whale or ork we have r\n",
            "ll over with a heathenish array of monstrous clubs and spears . Some were thick\n",
            "d as you gazed , and wondered what monstrous cannibal and savage could ever hav\n",
            "that has survived the flood ; most monstrous and most mountainous ! That Himmal\n",
            "they might scout at Moby Dick as a monstrous fable , or still worse and more de\n",
            "th of Radney .'\" CHAPTER 55 Of the Monstrous Pictures of Whales . I shall ere l\n",
            "ing Scenes . In connexion with the monstrous pictures of whales , I am strongly\n",
            "ere to enter upon those still more monstrous stories of them which are to be fo\n",
            "ght have been rummaged out of this monstrous cabinet there is no telling . But \n",
            "of Whale - Bones ; for Whales of a monstrous size are oftentimes cast up dead u\n"
          ]
        }
      ]
    },
    {
      "cell_type": "code",
      "source": [
        "text2.concordance(\"affection\")"
      ],
      "metadata": {
        "colab": {
          "base_uri": "https://localhost:8080/"
        },
        "id": "LeEvpTVkcnrL",
        "outputId": "57dccaf9-00f1-4f2d-97ae-0c8c8908b65c"
      },
      "execution_count": null,
      "outputs": [
        {
          "output_type": "stream",
          "name": "stdout",
          "text": [
            "Displaying 25 of 79 matches:\n",
            ", however , and , as a mark of his affection for the three girls , he left them\n",
            "t . It was very well known that no affection was ever supposed to exist between\n",
            "deration of politeness or maternal affection on the side of the former , the tw\n",
            "d the suspicion -- the hope of his affection for me may warrant , without impru\n",
            "hich forbade the indulgence of his affection . She knew that his mother neither\n",
            "rd she gave one with still greater affection . Though her late conversation wit\n",
            " can never hope to feel or inspire affection again , and if her home be uncomfo\n",
            "m of the sense , elegance , mutual affection , and domestic comfort of the fami\n",
            ", and which recommended him to her affection beyond every thing else . His soci\n",
            "ween the parties might forward the affection of Mr . Willoughby , an equally st\n",
            " the most pointed assurance of her affection . Elinor could not be surprised at\n",
            "he natural consequence of a strong affection in a young and ardent mind . This \n",
            " opinion . But by an appeal to her affection for her mother , by representing t\n",
            " every alteration of a place which affection had established as perfect with hi\n",
            "e will always have one claim of my affection , which no other can possibly shar\n",
            "f the evening declared at once his affection and happiness . \" Shall we see you\n",
            "ause he took leave of us with less affection than his usual behaviour has shewn\n",
            "ness .\" \" I want no proof of their affection ,\" said Elinor ; \" but of their en\n",
            "onths , without telling her of his affection ;-- that they should part without \n",
            "ould be the natural result of your affection for her . She used to be all unres\n",
            "distinguished Elinor by no mark of affection . Marianne saw and listened with i\n",
            "th no inclination for expense , no affection for strangers , no profession , an\n",
            "till distinguished her by the same affection which once she had felt no doubt o\n",
            "al of her confidence in Edward ' s affection , to the remembrance of every mark\n",
            " was made ? Had he never owned his affection to yourself ?\" \" Oh , no ; but if \n"
          ]
        }
      ]
    },
    {
      "cell_type": "code",
      "source": [
        "text3.concordance(\"lived\")"
      ],
      "metadata": {
        "colab": {
          "base_uri": "https://localhost:8080/"
        },
        "id": "_IpvZNk1dUTx",
        "outputId": "286c73ed-1453-4246-df7a-b9483bd9e258"
      },
      "execution_count": null,
      "outputs": [
        {
          "output_type": "stream",
          "name": "stdout",
          "text": [
            "Displaying 25 of 38 matches:\n",
            "ay when they were created . And Adam lived an hundred and thirty years , and be\n",
            "ughters : And all the days that Adam lived were nine hundred and thirty yea and\n",
            "nd thirty yea and he died . And Seth lived an hundred and five years , and bega\n",
            "ve years , and begat Enos : And Seth lived after he begat Enos eight hundred an\n",
            "welve years : and he died . And Enos lived ninety years , and begat Cainan : An\n",
            " years , and begat Cainan : And Enos lived after he begat Cainan eight hundred \n",
            "ive years : and he died . And Cainan lived seventy years and begat Mahalaleel :\n",
            "rs and begat Mahalaleel : And Cainan lived after he begat Mahalaleel eight hund\n",
            "years : and he died . And Mahalaleel lived sixty and five years , and begat Jar\n",
            "s , and begat Jared : And Mahalaleel lived after he begat Jared eight hundred a\n",
            "and five yea and he died . And Jared lived an hundred sixty and two years , and\n",
            "o years , and he begat Eno And Jared lived after he begat Enoch eight hundred y\n",
            " and two yea and he died . And Enoch lived sixty and five years , and begat Met\n",
            " ; for God took him . And Methuselah lived an hundred eighty and seven years , \n",
            " , and begat Lamech . And Methuselah lived after he begat Lamech seven hundred \n",
            "nd nine yea and he died . And Lamech lived an hundred eighty and two years , an\n",
            "ch the LORD hath cursed . And Lamech lived after he begat Noah five hundred nin\n",
            "naan shall be his servant . And Noah lived after the flood three hundred and fi\n",
            "xad two years after the flo And Shem lived after he begat Arphaxad five hundred\n",
            "at sons and daughters . And Arphaxad lived five and thirty years , and begat Sa\n",
            "ars , and begat Salah : And Arphaxad lived after he begat Salah four hundred an\n",
            "begat sons and daughters . And Salah lived thirty years , and begat Eber : And \n",
            "y years , and begat Eber : And Salah lived after he begat Eber four hundred and\n",
            " begat sons and daughters . And Eber lived four and thirty years , and begat Pe\n",
            "y years , and begat Peleg : And Eber lived after he begat Peleg four hundred an\n"
          ]
        }
      ]
    },
    {
      "cell_type": "code",
      "source": [
        "text3.concordance(\"word\")"
      ],
      "metadata": {
        "colab": {
          "base_uri": "https://localhost:8080/"
        },
        "id": "ia8u9JW5diLz",
        "outputId": "74b2cb93-c9c3-4c4f-f838-1531419b86a0"
      },
      "execution_count": null,
      "outputs": [
        {
          "output_type": "stream",
          "name": "stdout",
          "text": [
            "Displaying 7 of 7 matches:\n",
            "eir portion . After these things the word of the LORD came unto Abram in a vis\n",
            "se is mine heir . And , behold , the word of the LORD came unto him , saying ,\n",
            "I would it might be according to thy word . And he removed that day the he goa\n",
            " well with the flocks ; and bring me word again . So he sent him out of the va\n",
            "er my house , and according unto thy word shall all my people be rul only in t\n",
            " money . And he did according to the word that Joseph had spoken . As soon as \n",
            " thy servant , I pray thee , speak a word in my lord ' s ears , and let not th\n"
          ]
        }
      ]
    },
    {
      "cell_type": "code",
      "source": [
        "text7.concordance(\"money\")"
      ],
      "metadata": {
        "colab": {
          "base_uri": "https://localhost:8080/"
        },
        "id": "0xaR6a98dv4_",
        "outputId": "ddd3e210-c9da-4a9b-9e54-0cff36731f18"
      },
      "execution_count": null,
      "outputs": [
        {
          "output_type": "stream",
          "name": "stdout",
          "text": [
            "Displaying 25 of 60 matches:\n",
            "00 taxable funds tracked * by IBC 's Money Fund Report eased a fraction of a pe\n",
            "*-1 Brenda Malizia Negus , editor of Money Fund Report , yields `` may blip up \n",
            "stors continue *-1 to pour cash into money funds . Assets of the 400 taxable fu\n",
            "go after the highest rates . The top money funds are currently yielding well ov\n",
            "t forces investors to redeploy their money at lower rates . Second , they chann\n",
            "heless , plenty of U.S. analysts and money managers are aghast at the lofty tra\n",
            "ll face legal obstacles to * raising money in the U.S. until they settle hundre\n",
            " in September . The goverment counts money as it is spent *-53 ; Dodge counts c\n",
            "*-54 *T*-1 . The government includes money spent * on residential renovation ; \n",
            "Japan . Despite the enormous sums of money 0 they 're paid *T*-1 *-2 to stand u\n",
            "aduate School of Business . Japanese money will help *-1 turn Southeast Asia in\n",
            "r hand , bring recognition and extra money -- a new computer lab for a school ,\n",
            "teaching as a career . She won grant money for the school , advised cheerleader\n",
            "e was eager *-1 to win -- if not for money , then for pride and recognition . M\n",
            "t . Ed Macheski , a Wilton , Conn. , money manager who *T*-120 follows bank sto\n",
            "hanical engineering productivity . @ Money Market Deposits-a 6.21 % a - Average\n",
            " Co . `` I think 0 the stock is dead money for a while . '' Yesterday 's announ\n",
            "firms that *T*-154 do n't spend much money *-1 advertising and ca n't be relied\n",
            "cheduled *-106 . Unless it can raise money in financial markets , Mr. Basham sa\n",
            " with the end of the year in sight , money managers are eager *-1 to take profi\n",
            "ideas , *-1 frequently putting their money behind projects that commercial bank\n",
            "tatement 0 *T*-1 to help in * saving money . In September , Union Planters Corp\n",
            "t , a Chicago investment adviser and money manager , based on a review of six d\n",
            "f Fujitsu Ltd. , believes `` 0 the ` money worship ' among young people ... cau\n",
            "-247 's wrong with * asking for more money ? Money is not everything , but it i\n"
          ]
        }
      ]
    },
    {
      "cell_type": "code",
      "source": [
        "text5.concordance(\"lol\")"
      ],
      "metadata": {
        "colab": {
          "base_uri": "https://localhost:8080/"
        },
        "id": "R8NVlGMueKab",
        "outputId": "e1a6d2a2-d952-431b-946e-2a054b146b49"
      },
      "execution_count": null,
      "outputs": [
        {
          "output_type": "stream",
          "name": "stdout",
          "text": [
            "Displaying 25 of 822 matches:\n",
            "ast PART 24 / m boo . 26 / m and sexy lol U115 boo . JOIN PART he drew a girl w\n",
            "ope he didnt draw a penis PART ewwwww lol & a head between her legs JOIN JOIN s\n",
            "a bowl i got a blunt an a bong ...... lol JOIN well , glad it worked out my cha\n",
            "e \" PART Hi U121 in ny . ACTION would lol @ U121 . . . but appearently she does\n",
            "30 make sure u buy a nice ring for U6 lol U7 Hi U115 . ACTION isnt falling for \n",
            " didnt ya hear !!!! PART JOIN geeshhh lol U6 PART hes deaf ppl here dont get it\n",
            "es nobody here i wanna misbeahve with lol JOIN so read it . thanks U7 .. Im hap\n",
            "ies want to chat can i talk to him !! lol U121 !!! forwards too lol JOIN ALL PE\n",
            "k to him !! lol U121 !!! forwards too lol JOIN ALL PErvs ... redirect to U121 '\n",
            " loves ME the most i love myself JOIN lol U44 how do u know that what ? jerkett\n",
            "ng wrong ... i can see it in his eyes lol U20 = fiance Jerketts lmao wtf yah I \n",
            "cooler by the minute what 'd I miss ? lol noo there too much work ! why not ?? \n",
            " that mean I want you ? U6 hello room lol U83 and this .. has been the grammar \n",
            " the rule he 's in PM land now though lol ah ok i wont bug em then someone wann\n",
            "flight to hell :) lmao bbl maybe PART LOL lol U7 it was me , U83 hahah U83 ! 80\n",
            "ht to hell :) lmao bbl maybe PART LOL lol U7 it was me , U83 hahah U83 ! 808265\n",
            "082653953 K-Fed got his ass kicked .. Lol . ACTION laughs . i got a first class\n",
            " . i got a first class ticket to hell lol U7 JOIN any texas girls in here ? any\n",
            " . whats up U155 i was only kidding . lol he 's a douchebag . Poor U121 i 'm bo\n",
            " ??? sits with U30 Cum to my shower . lol U121 . ACTION U1370 watches his nads \n",
            " ur nad with a stick . ca u U23 ewwww lol *sniffs* ewwwwww PART U115 ! owww spl\n",
            "ACTION is resisting . ur female right lol U115 beeeeehave Remember the LAst tim\n",
            "pm's me . charge that is 1.99 / min . lol @ innocent hahah lol .... yeah LOLOLO\n",
            " is 1.99 / min . lol @ innocent hahah lol .... yeah LOLOLOLLL U12 thats not nic\n",
            "s . lmao no U115 Check my record . :) Lol lick em U7 U23 how old r u lol Way to\n"
          ]
        }
      ]
    },
    {
      "cell_type": "code",
      "source": [
        "text4.concordance(\"nation\")"
      ],
      "metadata": {
        "colab": {
          "base_uri": "https://localhost:8080/"
        },
        "id": "8mk27WPJeboF",
        "outputId": "706b3398-c0cf-4e69-91b2-bcf32228a280"
      },
      "execution_count": null,
      "outputs": [
        {
          "output_type": "stream",
          "name": "stdout",
          "text": [
            "Displaying 25 of 348 matches:\n",
            " to the character of an independent nation seems to have been distinguished by\n",
            "f Heaven can never be expected on a nation that disregards the eternal rules o\n",
            "first , the representatives of this nation , then consisting of little more th\n",
            ", situation , and relations of this nation and country than any which had ever\n",
            ", prosperity , and happiness of the nation I have acquired an habitual attachm\n",
            "an be no spectacle presented by any nation more pleasing , more noble , majest\n",
            "party for its own ends , not of the nation for the national good . If that sol\n",
            "tures and the people throughout the nation . On this subject it might become m\n",
            "if a personal esteem for the French nation , formed in a residence of seven ye\n",
            "f our fellow - citizens by whatever nation , and if success can not be obtaine\n",
            "y , continue His blessing upon this nation and its Government and give it all \n",
            "powers so justly inspire . A rising nation , spread over a wide and fruitful l\n",
            "ing now decided by the voice of the nation , announced according to the rules \n",
            "ars witness to the fact that a just nation is trusted on its word when recours\n",
            "e union of opinion which gives to a nation the blessing of harmony and the ben\n",
            "uil suffrage of a free and virtuous nation , would under any circumstances hav\n",
            "d spirit and united councils of the nation will be safeguards to its honor and\n",
            "iction that the war with a powerful nation , which forms so prominent a featur\n",
            "out breaking down the spirit of the nation , destroying all confidence in itse\n",
            "ed on the military resources of the nation . These resources are amply suffici\n",
            "the war to an honorable issue . Our nation is in number more than half that of\n",
            "ndividually have been happy and the nation prosperous . Under this Constitutio\n",
            "rights , and is able to protect the nation against injustice from foreign powe\n",
            " great agricultural interest of the nation prospers under its protection . Loc\n",
            "ak our Union , and demolish us as a nation . Our distance from Europe and the \n"
          ]
        }
      ]
    },
    {
      "cell_type": "code",
      "source": [
        "### Buscando por palavras similares\n",
        "\n",
        "text1.similar(\"monstrous\")"
      ],
      "metadata": {
        "colab": {
          "base_uri": "https://localhost:8080/"
        },
        "id": "1Hs9c1rAfqcY",
        "outputId": "4c18f17e-84ba-4243-e1c2-f8cea036dd47"
      },
      "execution_count": null,
      "outputs": [
        {
          "output_type": "stream",
          "name": "stdout",
          "text": [
            "true contemptible christian abundant few part mean careful puzzled\n",
            "mystifying passing curious loving wise doleful gamesome singular\n",
            "delightfully perilous fearless\n"
          ]
        }
      ]
    },
    {
      "cell_type": "code",
      "source": [
        "text2.similar(\"monstrous\")"
      ],
      "metadata": {
        "colab": {
          "base_uri": "https://localhost:8080/"
        },
        "id": "FpzyKxrpgCFW",
        "outputId": "7fee65fa-f441-4477-b2b1-565ee7744ac1"
      },
      "execution_count": null,
      "outputs": [
        {
          "output_type": "stream",
          "name": "stdout",
          "text": [
            "very so exceedingly heartily a as good great extremely remarkably\n",
            "sweet vast amazingly\n"
          ]
        }
      ]
    },
    {
      "cell_type": "code",
      "source": [
        "### analisando palavras que compartilham contexto\n",
        "\n",
        "text2.common_contexts([\"monstrous\", \"very\"])"
      ],
      "metadata": {
        "colab": {
          "base_uri": "https://localhost:8080/"
        },
        "id": "k6uKPezEgQwF",
        "outputId": "9507ab26-ebbf-4d9c-a16b-7e005f225e22"
      },
      "execution_count": null,
      "outputs": [
        {
          "output_type": "stream",
          "name": "stdout",
          "text": [
            "am_glad a_pretty a_lucky is_pretty be_glad\n"
          ]
        }
      ]
    },
    {
      "cell_type": "code",
      "source": [
        "text2.similar(\"love\")"
      ],
      "metadata": {
        "colab": {
          "base_uri": "https://localhost:8080/"
        },
        "id": "Bn13DDKJrpgA",
        "outputId": "0ef25cee-2209-4a3e-c7db-1ad0e8780292"
      },
      "execution_count": null,
      "outputs": [
        {
          "output_type": "stream",
          "name": "stdout",
          "text": [
            "affection sister heart mother time see town life it dear elinor\n",
            "marianne me word family her him do regard head\n"
          ]
        }
      ]
    },
    {
      "cell_type": "code",
      "source": [
        "text3.similar(\"love\")"
      ],
      "metadata": {
        "colab": {
          "base_uri": "https://localhost:8080/"
        },
        "id": "BUXyIIbdr8gC",
        "outputId": "32f49142-b3ee-4ba2-c990-eeffc1f3f1f3"
      },
      "execution_count": null,
      "outputs": [
        {
          "output_type": "stream",
          "name": "stdout",
          "text": [
            "went drank earth darkness morning se them give nig hath man had thus\n",
            "not took keep die call sle woman\n"
          ]
        }
      ]
    },
    {
      "cell_type": "code",
      "source": [
        "text3.common_contexts([\"God\", \"word\"])"
      ],
      "metadata": {
        "colab": {
          "base_uri": "https://localhost:8080/"
        },
        "id": "z1bhWVxcsE1s",
        "outputId": "b17f46a8-531e-4903-d26f-85179f513ce0"
      },
      "execution_count": null,
      "outputs": [
        {
          "output_type": "stream",
          "name": "stdout",
          "text": [
            "the_of\n"
          ]
        }
      ]
    },
    {
      "cell_type": "code",
      "source": [
        "text7.common_contexts([\"money\", \"buy\"])"
      ],
      "metadata": {
        "colab": {
          "base_uri": "https://localhost:8080/"
        },
        "id": "WH_mm4Vlsnzp",
        "outputId": "392833ec-d56f-43a1-d9df-ac72c6d52ddd"
      },
      "execution_count": null,
      "outputs": [
        {
          "output_type": "stream",
          "name": "stdout",
          "text": [
            "No common contexts were found\n"
          ]
        }
      ]
    },
    {
      "cell_type": "code",
      "source": [
        "### Informação sobre a posição de uma palavra no texto. Usamos o gráfico de dispersão\n",
        "\n",
        "text4.dispersion_plot([\"citizens\", \"democracy\", \"freedom\", \"duties\", \"America\"])"
      ],
      "metadata": {
        "colab": {
          "base_uri": "https://localhost:8080/",
          "height": 472
        },
        "id": "QxpdEAKtt-VQ",
        "outputId": "17b04c93-5492-4f15-8fc5-90fcb0d9e812"
      },
      "execution_count": null,
      "outputs": [
        {
          "output_type": "display_data",
          "data": {
            "text/plain": [
              "<Figure size 640x480 with 1 Axes>"
            ],
            "image/png": "[encoded data removed]"
          },
          "metadata": {}
        }
      ]
    },
    {
      "cell_type": "code",
      "source": [
        "text4.dispersion_plot([\"liberty\", \"constitution\", \"city\", \"united\", \"America\"])"
      ],
      "metadata": {
        "colab": {
          "base_uri": "https://localhost:8080/",
          "height": 472
        },
        "id": "8v92iMGlwHft",
        "outputId": "769a49e4-4d0f-4259-d32a-a4046163a3c6"
      },
      "execution_count": null,
      "outputs": [
        {
          "output_type": "display_data",
          "data": {
            "text/plain": [
              "<Figure size 640x480 with 1 Axes>"
            ],
            "image/png": "[encoded data removed]"
          },
          "metadata": {}
        }
      ]
    },
    {
      "cell_type": "code",
      "source": [
        "text3.dispersion_plot([\"slave\", \"people\", \"God\", \"word\", \"earth\"])\n",
        "\n",
        "### interessante observar que o comando é case sensitive. God e god são identificados de forma diferente.\n"
      ],
      "metadata": {
        "colab": {
          "base_uri": "https://localhost:8080/",
          "height": 472
        },
        "id": "h_TLyVoJwwa9",
        "outputId": "7d67d065-1247-4750-be75-3af5bf254562"
      },
      "execution_count": null,
      "outputs": [
        {
          "output_type": "display_data",
          "data": {
            "text/plain": [
              "<Figure size 640x480 with 1 Axes>"
            ],
            "image/png": "[encoded data removed]"
          },
          "metadata": {}
        }
      ]
    },
    {
      "cell_type": "code",
      "source": [
        "text2.dispersion_plot([\"love\", \"respect\", \"military\", \"lady\", \"wine\"])"
      ],
      "metadata": {
        "colab": {
          "base_uri": "https://localhost:8080/",
          "height": 472
        },
        "id": "nA0JEC0hxXZg",
        "outputId": "a5937f65-649c-4295-96a6-ebd485df366f"
      },
      "execution_count": null,
      "outputs": [
        {
          "output_type": "display_data",
          "data": {
            "text/plain": [
              "<Figure size 640x480 with 1 Axes>"
            ],
            "image/png": "[encoded data removed]"
          },
          "metadata": {}
        }
      ]
    },
    {
      "cell_type": "markdown",
      "source": [
        "**ATENÇÃO**\n",
        "\n",
        "Para representação correta desses gráficos é necessário ter os pacotes NumPy e Matplotlib. Considere instalar os pacotes caso não funcione o código."
      ],
      "metadata": {
        "id": "akZpPLu-xosD"
      }
    },
    {
      "cell_type": "code",
      "source": [
        "### Gerando textos aleatórios\n",
        "\n",
        "text3.generate()"
      ],
      "metadata": {
        "colab": {
          "base_uri": "https://localhost:8080/",
          "height": 261
        },
        "id": "gJz5CzkAx21d",
        "outputId": "3d648f3e-52ca-436b-fdb6-882675237c8a"
      },
      "execution_count": null,
      "outputs": [
        {
          "output_type": "stream",
          "name": "stderr",
          "text": [
            "Building ngram index...\n"
          ]
        },
        {
          "output_type": "stream",
          "name": "stdout",
          "text": [
            "laid by her , and said unto Cain , Where art thou , and said , Go to ,\n",
            "I will not do it for ten ' s sons ; we dreamed each man according to\n",
            "their generatio the firstborn said unto Laban , Because I said , Nay ,\n",
            "but Sarah shall her name be . , duke Elah , duke Shobal , and Akan .\n",
            "and looked upon my affliction . Bashemath Ishmael ' s blood , but Isra\n",
            "for as a prince hast thou found of all the cattle in the valley , and\n",
            "the wo The\n"
          ]
        },
        {
          "output_type": "execute_result",
          "data": {
            "text/plain": [
              "\"laid by her , and said unto Cain , Where art thou , and said , Go to ,\\nI will not do it for ten ' s sons ; we dreamed each man according to\\ntheir generatio the firstborn said unto Laban , Because I said , Nay ,\\nbut Sarah shall her name be . , duke Elah , duke Shobal , and Akan .\\nand looked upon my affliction . Bashemath Ishmael ' s blood , but Isra\\nfor as a prince hast thou found of all the cattle in the valley , and\\nthe wo The\""
            ],
            "application/vnd.google.colaboratory.intrinsic+json": {
              "type": "string"
            }
          },
          "metadata": {},
          "execution_count": 27
        }
      ]
    },
    {
      "cell_type": "code",
      "source": [
        "text2.generate()"
      ],
      "metadata": {
        "colab": {
          "base_uri": "https://localhost:8080/",
          "height": 278
        },
        "id": "zQYZsP7d2YfM",
        "outputId": "463645c7-cc0e-46dd-c15c-30a4efb4bcfe"
      },
      "execution_count": null,
      "outputs": [
        {
          "output_type": "stream",
          "name": "stderr",
          "text": [
            "Building ngram index...\n"
          ]
        },
        {
          "output_type": "stream",
          "name": "stdout",
          "text": [
            "knew , had by this remembrance , and if , by rapid degrees , so long .\n",
            ", she could live without one another , and in her rambles . at least\n",
            "the last evening of a brother , could you know , from the first .\n",
            "Dashwood ? this gentleman himself , and must put up with a kindness\n",
            "which they are very much vexed at , for it -- and I shall keep it\n",
            "entirely . admire it ; and it is , explain the grounds , or if any\n",
            "place could give her ease , was a\n"
          ]
        },
        {
          "output_type": "execute_result",
          "data": {
            "text/plain": [
              "'knew , had by this remembrance , and if , by rapid degrees , so long .\\n, she could live without one another , and in her rambles . at least\\nthe last evening of a brother , could you know , from the first .\\nDashwood ? this gentleman himself , and must put up with a kindness\\nwhich they are very much vexed at , for it -- and I shall keep it\\nentirely . admire it ; and it is , explain the grounds , or if any\\nplace could give her ease , was a'"
            ],
            "application/vnd.google.colaboratory.intrinsic+json": {
              "type": "string"
            }
          },
          "metadata": {},
          "execution_count": 28
        }
      ]
    },
    {
      "cell_type": "code",
      "source": [
        "text8.generate()"
      ],
      "metadata": {
        "colab": {
          "base_uri": "https://localhost:8080/",
          "height": 278
        },
        "id": "SExAi8bL2obZ",
        "outputId": "88f57100-79f6-4fed-efa0-1d7bf3734877"
      },
      "execution_count": null,
      "outputs": [
        {
          "output_type": "stream",
          "name": "stdout",
          "text": [
            "build , UK born , many interests incl . , non - smoker / social\n",
            "drinker , Harley rider , semi retired , secure , non smoker , 56 or\n",
            "taller with business outlook , no children , who would like to meet a\n",
            "sexy , young for age , looks not important , nor distance / speed .\n",
            "gentleman . s / d seeks lady for fun times & family GOOD Guy seeking\n",
            "Asian lady , who would like to meet a lovely , sexy lady n / s seeks\n",
            "Lady for discreet affair . LIMESTONE COAST REGION Attractive\n"
          ]
        },
        {
          "output_type": "stream",
          "name": "stderr",
          "text": [
            "Building ngram index...\n"
          ]
        },
        {
          "output_type": "execute_result",
          "data": {
            "text/plain": [
              "'build , UK born , many interests incl . , non - smoker / social\\ndrinker , Harley rider , semi retired , secure , non smoker , 56 or\\ntaller with business outlook , no children , who would like to meet a\\nsexy , young for age , looks not important , nor distance / speed .\\ngentleman . s / d seeks lady for fun times & family GOOD Guy seeking\\nAsian lady , who would like to meet a lovely , sexy lady n / s seeks\\nLady for discreet affair . LIMESTONE COAST REGION Attractive'"
            ],
            "application/vnd.google.colaboratory.intrinsic+json": {
              "type": "string"
            }
          },
          "metadata": {},
          "execution_count": 29
        }
      ]
    },
    {
      "cell_type": "code",
      "source": [
        "text1.generate()"
      ],
      "metadata": {
        "colab": {
          "base_uri": "https://localhost:8080/",
          "height": 278
        },
        "id": "emWspc912tRh",
        "outputId": "01691159-83b4-4b51-fa31-08d9a7f3fee5"
      },
      "execution_count": null,
      "outputs": [
        {
          "output_type": "stream",
          "name": "stderr",
          "text": [
            "Building ngram index...\n"
          ]
        },
        {
          "output_type": "stream",
          "name": "stdout",
          "text": [
            "long , from one to the top - mast , and no coffin and went out a sea\n",
            "captain -- this peaking of the whales . , so as to preserve all his\n",
            "might had in former years abounding with them , they toil with their\n",
            "lances , strange tales of Southern whaling . at once the bravest\n",
            "Indians he was , after in vain strove to pierce the profundity . ?\n",
            "then ?\" a levelled flame of pale , And give no chance , watch him ;\n",
            "though the line , it is to be gainsaid . have been\n"
          ]
        },
        {
          "output_type": "execute_result",
          "data": {
            "text/plain": [
              "'long , from one to the top - mast , and no coffin and went out a sea\\ncaptain -- this peaking of the whales . , so as to preserve all his\\nmight had in former years abounding with them , they toil with their\\nlances , strange tales of Southern whaling . at once the bravest\\nIndians he was , after in vain strove to pierce the profundity . ?\\nthen ?\" a levelled flame of pale , And give no chance , watch him ;\\nthough the line , it is to be gainsaid . have been'"
            ],
            "application/vnd.google.colaboratory.intrinsic+json": {
              "type": "string"
            }
          },
          "metadata": {},
          "execution_count": 30
        }
      ]
    },
    {
      "cell_type": "markdown",
      "source": [
        "**ATENÇÃO**\n",
        "\n",
        "O recurso generate não está disponível no NLTK 3.0. Considere usar uma versão anterior para essa funcionalidade."
      ],
      "metadata": {
        "id": "mA0VmwrH2y1Q"
      }
    },
    {
      "cell_type": "code",
      "source": [
        "### Contando as palavras de um texto. Este é um bom recurso para saber o tamanho do dado que vai trabalhar.\n",
        "\n",
        "len(text1)"
      ],
      "metadata": {
        "colab": {
          "base_uri": "https://localhost:8080/"
        },
        "id": "nMpY2TFO3FbT",
        "outputId": "4c448959-4f4a-4a11-acfa-ae4945b3c686"
      },
      "execution_count": null,
      "outputs": [
        {
          "output_type": "execute_result",
          "data": {
            "text/plain": [
              "260819"
            ]
          },
          "metadata": {},
          "execution_count": 31
        }
      ]
    },
    {
      "cell_type": "markdown",
      "source": [
        "*Observação*\n",
        "\n",
        "O texto 1 possui 260819 palavras e símbolos de pontuação, ou \"tokens\".  \n",
        "**Token** é um termo técnico para um sequencia de caracteres que queremos tratar como um grupo."
      ],
      "metadata": {
        "id": "xftAEk-C3hGf"
      }
    },
    {
      "cell_type": "markdown",
      "source": [
        "*Vocabulário*\n",
        "\n",
        "O vocabulário de um texto é o conjunto de tokens que ele utiliza."
      ],
      "metadata": {
        "id": "tzQo2UDaCgap"
      }
    },
    {
      "cell_type": "code",
      "source": [
        "### Obtendo o itens do vocabulário de um texto\n",
        "\n",
        "sorted(set(text1))"
      ],
      "metadata": {
        "id": "DCe9jC7t4Pcn",
        "colab": {
          "base_uri": "https://localhost:8080/"
        },
        "outputId": "77e96777-8904-4539-d6c9-e19fa611a7a7"
      },
      "execution_count": null,
      "outputs": [
        {
          "output_type": "execute_result",
          "data": {
            "text/plain": [
              "['!',\n",
              " '!\"',\n",
              " '!\"--',\n",
              " \"!'\",\n",
              " '!\\'\"',\n",
              " '!)',\n",
              " '!)\"',\n",
              " '!*',\n",
              " '!--',\n",
              " '!--\"',\n",
              " \"!--'\",\n",
              " '\"',\n",
              " '\"\\'',\n",
              " '\"--',\n",
              " '\"...',\n",
              " '\";',\n",
              " '$',\n",
              " '&',\n",
              " \"'\",\n",
              " \"',\",\n",
              " \"',--\",\n",
              " \"'-\",\n",
              " \"'--\",\n",
              " \"';\",\n",
              " '(',\n",
              " ')',\n",
              " '),',\n",
              " ')--',\n",
              " ').',\n",
              " ').--',\n",
              " '):',\n",
              " ');',\n",
              " ');--',\n",
              " '*',\n",
              " ',',\n",
              " ',\"',\n",
              " ',\"--',\n",
              " \",'\",\n",
              " \",'--\",\n",
              " ',)',\n",
              " ',*',\n",
              " ',--',\n",
              " ',--\"',\n",
              " \",--'\",\n",
              " '-',\n",
              " '--',\n",
              " '--\"',\n",
              " \"--'\",\n",
              " '--\\'\"',\n",
              " '--(',\n",
              " '---\"',\n",
              " '---,',\n",
              " '.',\n",
              " '.\"',\n",
              " '.\"*',\n",
              " '.\"--',\n",
              " \".'\",\n",
              " '.\\'\"',\n",
              " '.)',\n",
              " '.*',\n",
              " '.*--',\n",
              " '.,',\n",
              " '.--',\n",
              " '.--\"',\n",
              " '...',\n",
              " '....',\n",
              " '.]',\n",
              " '000',\n",
              " '1',\n",
              " '10',\n",
              " '100',\n",
              " '101',\n",
              " '102',\n",
              " '103',\n",
              " '104',\n",
              " '105',\n",
              " '106',\n",
              " '107',\n",
              " '108',\n",
              " '109',\n",
              " '11',\n",
              " '110',\n",
              " '111',\n",
              " '112',\n",
              " '113',\n",
              " '114',\n",
              " '115',\n",
              " '116',\n",
              " '117',\n",
              " '118',\n",
              " '119',\n",
              " '12',\n",
              " '120',\n",
              " '121',\n",
              " '122',\n",
              " '123',\n",
              " '124',\n",
              " '125',\n",
              " '126',\n",
              " '127',\n",
              " '128',\n",
              " '129',\n",
              " '13',\n",
              " '130',\n",
              " '131',\n",
              " '132',\n",
              " '133',\n",
              " '134',\n",
              " '135',\n",
              " '14',\n",
              " '144',\n",
              " '1492',\n",
              " '15',\n",
              " '150',\n",
              " '15th',\n",
              " '16',\n",
              " '1652',\n",
              " '1668',\n",
              " '1671',\n",
              " '1690',\n",
              " '1695',\n",
              " '16th',\n",
              " '17',\n",
              " '1726',\n",
              " '1729',\n",
              " '1750',\n",
              " '1772',\n",
              " '1775',\n",
              " '1776',\n",
              " '1778',\n",
              " '1779',\n",
              " '1788',\n",
              " '1791',\n",
              " '1793',\n",
              " '18',\n",
              " '180',\n",
              " '1807',\n",
              " '1819',\n",
              " '1820',\n",
              " '1821',\n",
              " '1825',\n",
              " '1828',\n",
              " '1833',\n",
              " '1836',\n",
              " '1839',\n",
              " '1840',\n",
              " '1842',\n",
              " '1846',\n",
              " '1850',\n",
              " '1851',\n",
              " '19',\n",
              " '1ST',\n",
              " '1st',\n",
              " '2',\n",
              " '20',\n",
              " '2000',\n",
              " '200th',\n",
              " '21',\n",
              " '21st',\n",
              " '22',\n",
              " '23',\n",
              " '24',\n",
              " '25',\n",
              " '26',\n",
              " '27',\n",
              " '275th',\n",
              " '28',\n",
              " '29',\n",
              " '2ND',\n",
              " '3',\n",
              " '30',\n",
              " '31',\n",
              " '31st',\n",
              " '32',\n",
              " '33',\n",
              " '34',\n",
              " '35',\n",
              " '36',\n",
              " '37',\n",
              " '38',\n",
              " '39',\n",
              " '3D',\n",
              " '3d',\n",
              " '4',\n",
              " '40',\n",
              " '400',\n",
              " '41',\n",
              " '42',\n",
              " '43',\n",
              " '44',\n",
              " '440',\n",
              " '45',\n",
              " '46',\n",
              " '47',\n",
              " '48',\n",
              " '49',\n",
              " '4TH',\n",
              " '5',\n",
              " '50',\n",
              " '500',\n",
              " '51',\n",
              " '52',\n",
              " '53',\n",
              " '54',\n",
              " '55',\n",
              " '550',\n",
              " '56',\n",
              " '57',\n",
              " '58',\n",
              " '59',\n",
              " '5TH',\n",
              " '6',\n",
              " '60',\n",
              " '61',\n",
              " '62',\n",
              " '63',\n",
              " '64',\n",
              " '65',\n",
              " '66',\n",
              " '67',\n",
              " '68',\n",
              " '69',\n",
              " '7',\n",
              " '70',\n",
              " '71',\n",
              " '72',\n",
              " '73',\n",
              " '74',\n",
              " '75',\n",
              " '76',\n",
              " '77',\n",
              " '78',\n",
              " '79',\n",
              " '8',\n",
              " '80',\n",
              " '800',\n",
              " '81',\n",
              " '82',\n",
              " '83',\n",
              " '84',\n",
              " '85',\n",
              " '86',\n",
              " '87',\n",
              " '88',\n",
              " '89',\n",
              " '890',\n",
              " '9',\n",
              " '90',\n",
              " '91',\n",
              " '92',\n",
              " '93',\n",
              " '94',\n",
              " '95',\n",
              " '96',\n",
              " '97',\n",
              " '98',\n",
              " '99',\n",
              " ':',\n",
              " ':\"-',\n",
              " ':--',\n",
              " ':--\"',\n",
              " \":--'\",\n",
              " ';',\n",
              " ';\"',\n",
              " ';\"--',\n",
              " ';\"--(',\n",
              " \";'\",\n",
              " ';*',\n",
              " ';--',\n",
              " ';--\"',\n",
              " \";--'\",\n",
              " '?',\n",
              " '?\"',\n",
              " '?\"--',\n",
              " \"?'\",\n",
              " \"?'--'\",\n",
              " '?--',\n",
              " '?--\"',\n",
              " \"?--'\",\n",
              " 'A',\n",
              " 'ABOUT',\n",
              " 'ACCOUNT',\n",
              " 'ADDITIONAL',\n",
              " 'ADVANCING',\n",
              " 'ADVENTURES',\n",
              " 'AFFGHANISTAN',\n",
              " 'AFRICA',\n",
              " 'AFTER',\n",
              " 'AGAINST',\n",
              " 'AHAB',\n",
              " 'ALFRED',\n",
              " 'ALGERINE',\n",
              " 'ALIVE',\n",
              " 'ALL',\n",
              " 'ALONE',\n",
              " 'AM',\n",
              " 'AMERICA',\n",
              " 'AMONG',\n",
              " 'ANCHORS',\n",
              " 'AND',\n",
              " 'ANGLO',\n",
              " 'ANIMAL',\n",
              " 'ANNALS',\n",
              " 'ANNUS',\n",
              " 'ANOTHER',\n",
              " 'ANY',\n",
              " 'APOLOGY',\n",
              " 'APPLICATION',\n",
              " 'APPROACHING',\n",
              " 'ARCTIC',\n",
              " 'ARE',\n",
              " 'AROUND',\n",
              " 'AS',\n",
              " 'ASCENDING',\n",
              " 'ASIA',\n",
              " 'ASIDE',\n",
              " 'ASPECT',\n",
              " 'AT',\n",
              " 'ATTACK',\n",
              " 'ATTACKED',\n",
              " 'ATTITUDES',\n",
              " 'AUGUST',\n",
              " 'AUTHOR',\n",
              " 'AZORE',\n",
              " 'Abashed',\n",
              " 'Abednego',\n",
              " 'Abel',\n",
              " 'Abjectus',\n",
              " 'Aboard',\n",
              " 'Abominable',\n",
              " 'About',\n",
              " 'Above',\n",
              " 'Abraham',\n",
              " 'Academy',\n",
              " 'Accessory',\n",
              " 'According',\n",
              " 'Accordingly',\n",
              " 'Accursed',\n",
              " 'Achilles',\n",
              " 'Actium',\n",
              " 'Acushnet',\n",
              " 'Adam',\n",
              " 'Adieu',\n",
              " 'Adios',\n",
              " 'Admiral',\n",
              " 'Admirals',\n",
              " 'Advance',\n",
              " 'Advancement',\n",
              " 'Adventures',\n",
              " 'Adverse',\n",
              " 'Advocate',\n",
              " 'Affected',\n",
              " 'Affidavit',\n",
              " 'Affrighted',\n",
              " 'Afric',\n",
              " 'Africa',\n",
              " 'African',\n",
              " 'Africans',\n",
              " 'Aft',\n",
              " 'After',\n",
              " 'Afterwards',\n",
              " 'Again',\n",
              " 'Against',\n",
              " 'Agassiz',\n",
              " 'Ages',\n",
              " 'Ah',\n",
              " 'Ahab',\n",
              " 'Ahabs',\n",
              " 'Ahasuerus',\n",
              " 'Ahaz',\n",
              " 'Ahoy',\n",
              " 'Ain',\n",
              " 'Air',\n",
              " 'Akin',\n",
              " 'Alabama',\n",
              " 'Aladdin',\n",
              " 'Alarmed',\n",
              " 'Alas',\n",
              " 'Albatross',\n",
              " 'Albemarle',\n",
              " 'Albert',\n",
              " 'Albicore',\n",
              " 'Albino',\n",
              " 'Aldrovandi',\n",
              " 'Aldrovandus',\n",
              " 'Alexander',\n",
              " 'Alexanders',\n",
              " 'Alfred',\n",
              " 'Algerine',\n",
              " 'Algiers',\n",
              " 'Alike',\n",
              " 'Alive',\n",
              " 'All',\n",
              " 'Alleghanian',\n",
              " 'Alleghanies',\n",
              " 'Alley',\n",
              " 'Almanack',\n",
              " 'Almighty',\n",
              " 'Almost',\n",
              " 'Aloft',\n",
              " 'Alone',\n",
              " 'Alps',\n",
              " 'Already',\n",
              " 'Also',\n",
              " 'Am',\n",
              " 'Ambergriese',\n",
              " 'Ambergris',\n",
              " 'Amelia',\n",
              " 'America',\n",
              " 'American',\n",
              " 'Americans',\n",
              " 'Americas',\n",
              " 'Amittai',\n",
              " 'Among',\n",
              " 'Amsterdam',\n",
              " 'An',\n",
              " 'Anacharsis',\n",
              " 'Anak',\n",
              " 'Anatomist',\n",
              " 'And',\n",
              " 'Andes',\n",
              " 'Andrew',\n",
              " 'Andromeda',\n",
              " 'Angel',\n",
              " 'Angelo',\n",
              " 'Angels',\n",
              " 'Animated',\n",
              " 'Annawon',\n",
              " 'Anne',\n",
              " 'Anno',\n",
              " 'Anomalous',\n",
              " 'Another',\n",
              " 'Answer',\n",
              " 'Antarctic',\n",
              " 'Antilles',\n",
              " 'Antiochus',\n",
              " 'Antony',\n",
              " 'Antwerp',\n",
              " 'Anvil',\n",
              " 'Any',\n",
              " 'Anyhow',\n",
              " 'Anything',\n",
              " 'Anyway',\n",
              " 'Apollo',\n",
              " 'Apoplexy',\n",
              " 'Applied',\n",
              " 'Apply',\n",
              " 'April',\n",
              " 'Aquarius',\n",
              " 'Arch',\n",
              " 'Archbishop',\n",
              " 'Arched',\n",
              " 'Archer',\n",
              " 'Archipelagoes',\n",
              " 'Archy',\n",
              " 'Arctic',\n",
              " 'Are',\n",
              " 'Arethusa',\n",
              " 'Argo',\n",
              " 'Aries',\n",
              " 'Arion',\n",
              " 'Aristotle',\n",
              " 'Ark',\n",
              " 'Arkansas',\n",
              " 'Arkite',\n",
              " 'Arm',\n",
              " 'Armada',\n",
              " 'Arnold',\n",
              " 'Aroostook',\n",
              " 'Around',\n",
              " 'Arrayed',\n",
              " 'Arrived',\n",
              " 'Arsacidean',\n",
              " 'Arsacides',\n",
              " 'Art',\n",
              " 'Artedi',\n",
              " 'Arter',\n",
              " 'Articles',\n",
              " 'As',\n",
              " 'Asa',\n",
              " 'Ashantee',\n",
              " 'Ashore',\n",
              " 'Asia',\n",
              " 'Asiatic',\n",
              " 'Asiatics',\n",
              " 'Aside',\n",
              " 'Asphaltites',\n",
              " 'Assaulted',\n",
              " 'Assume',\n",
              " 'Assuming',\n",
              " 'Assuredly',\n",
              " 'Assyrian',\n",
              " 'Astern',\n",
              " 'Astir',\n",
              " 'Astronomy',\n",
              " 'At',\n",
              " 'Atlantic',\n",
              " 'Atlantics',\n",
              " 'Attached',\n",
              " 'Attend',\n",
              " 'August',\n",
              " 'Aunt',\n",
              " 'Australia',\n",
              " 'Australian',\n",
              " 'Austrian',\n",
              " 'Author',\n",
              " 'Authors',\n",
              " 'Auto',\n",
              " 'Availing',\n",
              " 'Avast',\n",
              " 'Avatar',\n",
              " 'Aware',\n",
              " 'Away',\n",
              " 'Awful',\n",
              " 'Ay',\n",
              " 'Aye',\n",
              " 'Azores',\n",
              " 'BACK',\n",
              " 'BACKED',\n",
              " 'BACON',\n",
              " 'BALEINE',\n",
              " 'BALLENA',\n",
              " 'BANKS',\n",
              " 'BARON',\n",
              " 'BATTLE',\n",
              " 'BE',\n",
              " 'BEALE',\n",
              " 'BEFORE',\n",
              " 'BEING',\n",
              " 'BELFAST',\n",
              " 'BELOW',\n",
              " 'BENCH',\n",
              " 'BENNETT',\n",
              " 'BERMUDAS',\n",
              " 'BETWEEN',\n",
              " 'BEWARE',\n",
              " 'BIOGRAPHY',\n",
              " 'BIT',\n",
              " 'BLACK',\n",
              " 'BLACKSMITH',\n",
              " 'BLACKSTONE',\n",
              " 'BLOOD',\n",
              " 'BLOODY',\n",
              " 'BLOWS',\n",
              " 'BOARD',\n",
              " 'BOAT',\n",
              " 'BOATS',\n",
              " 'BOOK',\n",
              " 'BOOKS',\n",
              " 'BOSOM',\n",
              " 'BOTTOM',\n",
              " 'BOUTON',\n",
              " 'BRACE',\n",
              " 'BRACTON',\n",
              " 'BREACH',\n",
              " 'BREAKERS',\n",
              " 'BREAKWATER',\n",
              " 'BRIT',\n",
              " 'BROKE',\n",
              " 'BROTHER',\n",
              " 'BROWN',\n",
              " 'BROWNE',\n",
              " 'BURKE',\n",
              " 'BURST',\n",
              " 'BUSILY',\n",
              " 'BY',\n",
              " 'Babel',\n",
              " 'Babylon',\n",
              " 'Babylonian',\n",
              " 'Bachelor',\n",
              " 'Back',\n",
              " 'Backs',\n",
              " 'Bad',\n",
              " 'Baden',\n",
              " 'Bag',\n",
              " 'Balaene',\n",
              " 'Baliene',\n",
              " 'Baling',\n",
              " 'Bally',\n",
              " 'Baltic',\n",
              " 'Baltimore',\n",
              " 'Bamboo',\n",
              " 'Bang',\n",
              " 'Banks',\n",
              " 'Barbary',\n",
              " 'Bare',\n",
              " 'Bargain',\n",
              " 'Baron',\n",
              " 'Barrens',\n",
              " 'Bartholomew',\n",
              " 'Base',\n",
              " 'Bashaw',\n",
              " 'Bashee',\n",
              " 'Basilosaurus',\n",
              " 'Bastille',\n",
              " 'Battering',\n",
              " 'Battery',\n",
              " 'Bay',\n",
              " 'Bays',\n",
              " 'Be',\n",
              " 'Beach',\n",
              " 'Beale',\n",
              " 'Beams',\n",
              " 'Bear',\n",
              " 'Bears',\n",
              " 'Beat',\n",
              " 'Because',\n",
              " 'Becket',\n",
              " 'Bedford',\n",
              " 'Beelzebub',\n",
              " 'Befooled',\n",
              " 'Before',\n",
              " 'Begone',\n",
              " 'Behold',\n",
              " 'Behring',\n",
              " 'Being',\n",
              " 'Belated',\n",
              " 'Belial',\n",
              " 'Believe',\n",
              " 'Belisarius',\n",
              " 'Bell',\n",
              " 'Bellies',\n",
              " 'Beloved',\n",
              " 'Below',\n",
              " 'Belshazzar',\n",
              " 'Belubed',\n",
              " 'Bench',\n",
              " 'Bendigoes',\n",
              " 'Beneath',\n",
              " 'Bengal',\n",
              " 'Benjamin',\n",
              " 'Bennett',\n",
              " 'Bentham',\n",
              " 'Berkshire',\n",
              " 'Berlin',\n",
              " 'Bernard',\n",
              " 'Besides',\n",
              " 'Bess',\n",
              " 'Best',\n",
              " 'Bestow',\n",
              " 'Bethink',\n",
              " 'Better',\n",
              " 'Betty',\n",
              " 'Between',\n",
              " 'Beware',\n",
              " 'Beyond',\n",
              " 'Bible',\n",
              " 'Bibles',\n",
              " 'Bibliographical',\n",
              " 'Bildad',\n",
              " 'Biographical',\n",
              " 'Birmah',\n",
              " 'Bishop',\n",
              " 'Bite',\n",
              " 'Black',\n",
              " 'Blacksmith',\n",
              " 'Blackstone',\n",
              " 'Blanc',\n",
              " 'Blanche',\n",
              " 'Blanco',\n",
              " 'Blang',\n",
              " 'Blanket',\n",
              " 'Blast',\n",
              " 'Bless',\n",
              " 'Blind',\n",
              " 'Blinding',\n",
              " 'Blocksburg',\n",
              " 'Blood',\n",
              " 'Bloody',\n",
              " 'Blue',\n",
              " 'Boat',\n",
              " 'Boats',\n",
              " 'Bobbing',\n",
              " 'Bolivia',\n",
              " 'Bombay',\n",
              " 'Bonapartes',\n",
              " 'Bone',\n",
              " 'Bones',\n",
              " 'Bonneterre',\n",
              " 'Booble',\n",
              " 'Book',\n",
              " 'Boomer',\n",
              " 'Boone',\n",
              " 'Bordeaux',\n",
              " 'Borean',\n",
              " 'Born',\n",
              " 'Borneo',\n",
              " 'Bosom',\n",
              " 'Boston',\n",
              " 'Both',\n",
              " 'Bottle',\n",
              " 'Bottom',\n",
              " 'Bourbons',\n",
              " 'Bout',\n",
              " 'Bouton',\n",
              " 'Bowditch',\n",
              " 'Bower',\n",
              " 'Boy',\n",
              " 'Boys',\n",
              " 'Brace',\n",
              " 'Brahma',\n",
              " 'Brahmins',\n",
              " 'Brandreth',\n",
              " 'Brazil',\n",
              " 'Breakfast',\n",
              " 'Bremen',\n",
              " 'Bress',\n",
              " 'Bridge',\n",
              " 'Brighggians',\n",
              " 'Bright',\n",
              " 'Bring',\n",
              " 'Brisson',\n",
              " 'Brit',\n",
              " 'Britain',\n",
              " 'British',\n",
              " 'Britons',\n",
              " 'Broad',\n",
              " 'Broadway',\n",
              " 'Broke',\n",
              " 'Brother',\n",
              " 'Browne',\n",
              " 'Brute',\n",
              " 'Buckets',\n",
              " 'Bud',\n",
              " 'Buffalo',\n",
              " 'Bulkington',\n",
              " 'Bull',\n",
              " 'Bulwarks',\n",
              " 'Bunger',\n",
              " 'Bungle',\n",
              " 'Bunyan',\n",
              " 'Buoy',\n",
              " 'Buoyed',\n",
              " 'Burke',\n",
              " 'Burkes',\n",
              " 'Burst',\n",
              " 'Burton',\n",
              " 'Burtons',\n",
              " 'Business',\n",
              " 'But',\n",
              " 'Butchers',\n",
              " 'Butler',\n",
              " 'By',\n",
              " 'Byward',\n",
              " 'C',\n",
              " 'CABIN',\n",
              " 'CABINET',\n",
              " 'CANNY',\n",
              " 'CAP',\n",
              " 'CAPTAIN',\n",
              " 'CAPTAINS',\n",
              " 'CAPTORS',\n",
              " 'CARPENTER',\n",
              " 'CATCHES',\n",
              " 'CAULKING',\n",
              " 'CEASE',\n",
              " 'CETI',\n",
              " 'CETUS',\n",
              " 'CHACE',\n",
              " 'CHAPTER',\n",
              " 'CHAPTERS',\n",
              " 'CHARLES',\n",
              " 'CHEERLY',\n",
              " 'CHEEVER',\n",
              " 'CHIEF',\n",
              " 'CHINA',\n",
              " 'CHOP',\n",
              " 'CHORUS',\n",
              " 'CHRONICLER',\n",
              " 'CIRCUMNAVIGATION',\n",
              " 'CLEAN',\n",
              " 'CLOSES',\n",
              " 'CLUSTERS',\n",
              " 'COFFIN',\n",
              " 'COILS',\n",
              " 'COLEMAN',\n",
              " 'COLL',\n",
              " 'COLNETT',\n",
              " 'COMES',\n",
              " 'COMMERCIAL',\n",
              " 'COMMODORE',\n",
              " 'COMSTOCK',\n",
              " 'CONTESTED',\n",
              " 'CONTINUES',\n",
              " 'CONVERSATIONS',\n",
              " 'COOK',\n",
              " 'COOPER',\n",
              " 'COWLEY',\n",
              " 'COWPER',\n",
              " 'CREWS',\n",
              " 'CROW',\n",
              " 'CRUISE',\n",
              " 'CRUISING',\n",
              " 'CRUIZE',\n",
              " 'CURRENTS',\n",
              " 'CUVIER',\n",
              " 'Cabaco',\n",
              " 'Cabin',\n",
              " 'Cachalot',\n",
              " 'Cadiz',\n",
              " 'Caesar',\n",
              " 'Caesarian',\n",
              " 'Cain',\n",
              " 'Calais',\n",
              " 'Californian',\n",
              " 'Call',\n",
              " 'Callao',\n",
              " 'Cambyses',\n",
              " 'Camel',\n",
              " 'Campagna',\n",
              " 'Can',\n",
              " 'Canaan',\n",
              " 'Canada',\n",
              " 'Canadian',\n",
              " 'Canal',\n",
              " 'Canaller',\n",
              " 'Canallers',\n",
              " 'Canals',\n",
              " 'Canaris',\n",
              " 'Cancer',\n",
              " 'Candles',\n",
              " 'Cannibal',\n",
              " 'Cannibals',\n",
              " 'Cannon',\n",
              " 'Canst',\n",
              " 'Cant',\n",
              " 'Canterbury',\n",
              " 'Cap',\n",
              " 'Cape',\n",
              " 'Capes',\n",
              " 'Capricornus',\n",
              " 'Captain',\n",
              " 'Captains',\n",
              " 'Capting',\n",
              " 'Caramba',\n",
              " 'Careful',\n",
              " 'Carefully',\n",
              " 'Carey',\n",
              " 'Carpenter',\n",
              " 'Carpet',\n",
              " 'Carrol',\n",
              " 'Carson',\n",
              " 'Carthage',\n",
              " 'Caryatid',\n",
              " 'Case',\n",
              " 'Cash',\n",
              " 'Cassock',\n",
              " 'Castaway',\n",
              " 'Castle',\n",
              " 'Categut',\n",
              " 'Cathedral',\n",
              " 'Catholic',\n",
              " 'Cato',\n",
              " 'Catskill',\n",
              " 'Cattegat',\n",
              " 'Caught',\n",
              " 'Cave',\n",
              " 'Caw',\n",
              " 'Cellini',\n",
              " 'Central',\n",
              " 'Certain',\n",
              " 'Certainly',\n",
              " 'Cervantes',\n",
              " 'Cetacea',\n",
              " 'Cetacean',\n",
              " 'Cetology',\n",
              " 'Cetus',\n",
              " 'Ceylon',\n",
              " 'Chace',\n",
              " 'Chaldee',\n",
              " 'Champagne',\n",
              " 'Champollion',\n",
              " 'Channel',\n",
              " 'Chapel',\n",
              " 'Charing',\n",
              " 'Charity',\n",
              " 'Charlemagne',\n",
              " 'Charley',\n",
              " 'Chart',\n",
              " 'Chartering',\n",
              " 'Chase',\n",
              " 'Cheever',\n",
              " 'Cherries',\n",
              " 'Chestnut',\n",
              " 'Chief',\n",
              " 'Childe',\n",
              " 'Chili',\n",
              " 'Chilian',\n",
              " 'China',\n",
              " 'Chinese',\n",
              " 'Cholo',\n",
              " 'Chowder',\n",
              " 'Christ',\n",
              " 'Christendom',\n",
              " 'Christian',\n",
              " 'Christianity',\n",
              " 'Christians',\n",
              " 'Christmas',\n",
              " 'Church',\n",
              " 'Cinque',\n",
              " 'Circassian',\n",
              " 'Circumambulate',\n",
              " 'Cistern',\n",
              " 'Civitas',\n",
              " 'Clam',\n",
              " 'Clap',\n",
              " 'Claus',\n",
              " 'Clay',\n",
              " 'Clear',\n",
              " 'Clearing',\n",
              " 'Cleopatra',\n",
              " 'Cleveland',\n",
              " 'Clifford',\n",
              " 'Clinging',\n",
              " 'Clootz',\n",
              " 'Close',\n",
              " 'Closing',\n",
              " 'Cloud',\n",
              " 'Cluny',\n",
              " 'Coast',\n",
              " 'Cock',\n",
              " 'Cockatoo',\n",
              " 'Cod',\n",
              " 'Cods',\n",
              " 'Coenties',\n",
              " 'Coffin',\n",
              " 'Coffins',\n",
              " 'Cognac',\n",
              " 'Coke',\n",
              " 'Cold',\n",
              " 'Coleman',\n",
              " 'Coleridge',\n",
              " 'College',\n",
              " 'Colnett',\n",
              " 'Cologne',\n",
              " 'Colonies',\n",
              " 'Colossus',\n",
              " 'Columbus',\n",
              " 'Come',\n",
              " 'Coming',\n",
              " 'Commanded',\n",
              " 'Commanders',\n",
              " 'Commend',\n",
              " 'Commodore',\n",
              " 'Commodores',\n",
              " 'Common',\n",
              " 'Commonly',\n",
              " 'Commons',\n",
              " 'Commonwealth',\n",
              " 'Companies',\n",
              " 'Comparing',\n",
              " 'Concerning',\n",
              " 'Congo',\n",
              " 'Congregation',\n",
              " 'Congregational',\n",
              " 'Conjuror',\n",
              " 'Connecticut',\n",
              " 'Consequently',\n",
              " 'Consider',\n",
              " 'Considering',\n",
              " 'Constable',\n",
              " 'Constantine',\n",
              " 'Constantinople',\n",
              " 'Consumptive',\n",
              " 'Continents',\n",
              " 'Contrasted',\n",
              " 'Conversation',\n",
              " 'Convulsively',\n",
              " 'Cook',\n",
              " 'Cooke',\n",
              " 'Cooks',\n",
              " 'Cooper',\n",
              " 'Coopman',\n",
              " 'Copenhagen',\n",
              " 'Coppered',\n",
              " 'Corinthians',\n",
              " 'Corkscrew',\n",
              " 'Corlaer',\n",
              " 'Corlears',\n",
              " 'Coronation',\n",
              " 'Corresponding',\n",
              " 'Corrupt',\n",
              " 'Cough',\n",
              " 'Could',\n",
              " 'Count',\n",
              " 'Counterpane',\n",
              " 'County',\n",
              " 'Court',\n",
              " 'Cousin',\n",
              " 'Cowper',\n",
              " 'Crab',\n",
              " 'Crack',\n",
              " 'Crammer',\n",
              " 'Crappo',\n",
              " 'Crappoes',\n",
              " 'Crazed',\n",
              " 'Creagh',\n",
              " 'Created',\n",
              " 'Cretan',\n",
              " 'Crete',\n",
              " ...]"
            ]
          },
          "metadata": {},
          "execution_count": 32
        }
      ]
    },
    {
      "cell_type": "code",
      "source": [
        "### Descobrindo o número de itens do vocabulário\n",
        "\n",
        "len(set(text1))"
      ],
      "metadata": {
        "colab": {
          "base_uri": "https://localhost:8080/"
        },
        "id": "VGE5ZXceDIEP",
        "outputId": "d2965288-9e60-45b2-abb3-767f329ce1dd"
      },
      "execution_count": null,
      "outputs": [
        {
          "output_type": "execute_result",
          "data": {
            "text/plain": [
              "19317"
            ]
          },
          "metadata": {},
          "execution_count": 33
        }
      ]
    },
    {
      "cell_type": "markdown",
      "source": [
        "*Observação*\n",
        "\n",
        "Embora o livro (text1) possua 260819 tokens, ele possui 19317 palavras diferentes ou tipos de palavras.  \n",
        "**Tipo de palavra** é a forma ou pronuncia de uma palavra independentemente de sua especifica ocorrencia no texto, ou seja, a palavra é considerada como um único item do vocabulário.  \n",
        "A contagem inclui pontuações, que são chamados de **tipos de item** em vez de tipos de palavras."
      ],
      "metadata": {
        "id": "R0gtcs2VDkRd"
      }
    },
    {
      "cell_type": "code",
      "source": [
        "### Calculando a riqueza lexical do texto\n",
        "### O exemplo a seguir nos mostra que o número de palavras diferentes no texto\n",
        "len(set(text3))/len(text3)\n",
        "\n",
        "### len(set(text3)) ==> tamanho do conjunto de palavras\n",
        "### len(text3) ==> tamanho do texto"
      ],
      "metadata": {
        "id": "tqSi2QKmE3wJ",
        "colab": {
          "base_uri": "https://localhost:8080/"
        },
        "outputId": "1a390498-c7c6-4752-83d8-4ee8e04e5217"
      },
      "execution_count": null,
      "outputs": [
        {
          "output_type": "execute_result",
          "data": {
            "text/plain": [
              "0.06230453042623537"
            ]
          },
          "metadata": {},
          "execution_count": 34
        }
      ]
    },
    {
      "cell_type": "markdown",
      "source": [
        "Na tarefa acima percebemos que a riqueza lexical é de 6% para o text3.\n",
        "A seguir veremos a frequência que uma palavra específica ocorre no texto"
      ],
      "metadata": {
        "id": "yoxWP2QG9hKM"
      }
    },
    {
      "cell_type": "code",
      "source": [
        "text3.count(\"smote\")"
      ],
      "metadata": {
        "colab": {
          "base_uri": "https://localhost:8080/"
        },
        "id": "GiFwUnn5-EnG",
        "outputId": "7145d2eb-1cc0-41f3-ab51-906e97373afb"
      },
      "execution_count": null,
      "outputs": [
        {
          "output_type": "execute_result",
          "data": {
            "text/plain": [
              "5"
            ]
          },
          "metadata": {},
          "execution_count": 35
        }
      ]
    },
    {
      "cell_type": "markdown",
      "source": [
        "A palavra smote aparece no texto 5 vezes. Podemos calcular também a percentagem do texto que é coberta por uma palavra específica como veremos a seguir."
      ],
      "metadata": {
        "id": "Mq0y18to-b0_"
      }
    },
    {
      "cell_type": "code",
      "source": [
        "100 * text4.count('a') / len(text4)"
      ],
      "metadata": {
        "colab": {
          "base_uri": "https://localhost:8080/"
        },
        "id": "uTjc1Dty-Zuu",
        "outputId": "89462072-a1b2-40fe-b638-665875dd1616"
      },
      "execution_count": null,
      "outputs": [
        {
          "output_type": "execute_result",
          "data": {
            "text/plain": [
              "1.4569256756756757"
            ]
          },
          "metadata": {},
          "execution_count": 36
        }
      ]
    },
    {
      "cell_type": "markdown",
      "source": [
        "Podemos criar uma função para fazer mais rapidamente esses cálculos. Veremos a seguir como fazer isso."
      ],
      "metadata": {
        "id": "TMaVhLpZ_IX3"
      }
    },
    {
      "cell_type": "code",
      "source": [
        "def lexical_diversity(text):\n",
        "  return len(set(text)) / len(text)\n",
        "\n",
        "def percentage(count, total):\n",
        "  return 100 * count / total"
      ],
      "metadata": {
        "id": "2rFQCfrq_xLP"
      },
      "execution_count": null,
      "outputs": []
    },
    {
      "cell_type": "markdown",
      "source": [
        "Agora que já criamos a função podemos utiliza-la ao longo do código"
      ],
      "metadata": {
        "id": "anspC6AKFtG6"
      }
    },
    {
      "cell_type": "code",
      "source": [
        "lexical_diversity(text3)"
      ],
      "metadata": {
        "colab": {
          "base_uri": "https://localhost:8080/"
        },
        "id": "amQSZKHqF0gO",
        "outputId": "98d3cf78-ba90-40bf-d73a-653d6bfeb2eb"
      },
      "execution_count": null,
      "outputs": [
        {
          "output_type": "execute_result",
          "data": {
            "text/plain": [
              "0.06230453042623537"
            ]
          },
          "metadata": {},
          "execution_count": 38
        }
      ]
    },
    {
      "cell_type": "code",
      "source": [
        "lexical_diversity (text5)"
      ],
      "metadata": {
        "colab": {
          "base_uri": "https://localhost:8080/"
        },
        "id": "ou1ltj0HF4-m",
        "outputId": "4805df19-a6b8-40cc-8820-ec567499fc47"
      },
      "execution_count": null,
      "outputs": [
        {
          "output_type": "execute_result",
          "data": {
            "text/plain": [
              "0.13477005109975562"
            ]
          },
          "metadata": {},
          "execution_count": 39
        }
      ]
    },
    {
      "cell_type": "code",
      "source": [
        "percentage(4, 5)"
      ],
      "metadata": {
        "colab": {
          "base_uri": "https://localhost:8080/"
        },
        "id": "y9XKZJbxF8cb",
        "outputId": "2ec6fb98-f18a-4ccb-bd46-6f8b60d9b4a7"
      },
      "execution_count": null,
      "outputs": [
        {
          "output_type": "execute_result",
          "data": {
            "text/plain": [
              "80.0"
            ]
          },
          "metadata": {},
          "execution_count": 42
        }
      ]
    },
    {
      "cell_type": "code",
      "source": [
        "percentage(text4.count('a'), len(text4))"
      ],
      "metadata": {
        "colab": {
          "base_uri": "https://localhost:8080/"
        },
        "id": "jjY4LnZxGnaZ",
        "outputId": "e8f04d27-c4d6-458b-cd7b-9b5695105afc"
      },
      "execution_count": null,
      "outputs": [
        {
          "output_type": "execute_result",
          "data": {
            "text/plain": [
              "1.4569256756756757"
            ]
          },
          "metadata": {},
          "execution_count": 43
        }
      ]
    },
    {
      "cell_type": "markdown",
      "source": [
        "É possível criar outras funções e utilizá-las a longo do código sempre a chamando pelo nome dado na criação da função."
      ],
      "metadata": {
        "id": "MEm6SEXKGvR-"
      }
    },
    {
      "cell_type": "markdown",
      "source": [
        "## Texto como lista de palavras\n",
        "\n",
        "Para nossa atividade iremos considerar texto como uma sequencia de palavras e pontuações. Vejamos a seguir."
      ],
      "metadata": {
        "id": "vy0J_tqOHZ5w"
      }
    },
    {
      "cell_type": "code",
      "source": [
        "### Frase de abertura de Moby Dick\n",
        "### a forma que escrevemos abaixo é conhecida em Python como lista (lists)\n",
        "\n",
        "sent1 = ['Call', 'me', 'Ishmael', '.']"
      ],
      "metadata": {
        "id": "EukuAlUhHhAh"
      },
      "execution_count": null,
      "outputs": []
    },
    {
      "cell_type": "code",
      "source": [
        "### para recuperar a lista que criamos basta chama-la\n",
        "\n",
        "sent1"
      ],
      "metadata": {
        "colab": {
          "base_uri": "https://localhost:8080/"
        },
        "id": "2A9zStXVP1T6",
        "outputId": "60adac12-0d64-4f8f-df34-30894690976d"
      },
      "execution_count": null,
      "outputs": [
        {
          "output_type": "execute_result",
          "data": {
            "text/plain": [
              "['Call', 'me', 'Ishmael', '.']"
            ]
          },
          "metadata": {},
          "execution_count": 45
        }
      ]
    },
    {
      "cell_type": "code",
      "source": [
        "### qual o tamanho da lista\n",
        "\n",
        "len(sent1)"
      ],
      "metadata": {
        "colab": {
          "base_uri": "https://localhost:8080/"
        },
        "id": "YESykgGdP-iT",
        "outputId": "9c572f31-4bce-4e2d-a7cc-2913cb48691a"
      },
      "execution_count": null,
      "outputs": [
        {
          "output_type": "execute_result",
          "data": {
            "text/plain": [
              "4"
            ]
          },
          "metadata": {},
          "execution_count": 46
        }
      ]
    },
    {
      "cell_type": "code",
      "source": [
        "### qual a diversidade léxica\n",
        "\n",
        "lexical_diversity(sent1)"
      ],
      "metadata": {
        "colab": {
          "base_uri": "https://localhost:8080/"
        },
        "id": "pXqDnrYgQLen",
        "outputId": "8108b1bd-2c3d-457a-91c4-64dd9a934397"
      },
      "execution_count": null,
      "outputs": [
        {
          "output_type": "execute_result",
          "data": {
            "text/plain": [
              "1.0"
            ]
          },
          "metadata": {},
          "execution_count": 47
        }
      ]
    }
  ]
}